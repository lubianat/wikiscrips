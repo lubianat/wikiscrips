{
 "cells": [
  {
   "cell_type": "code",
   "execution_count": 143,
   "metadata": {},
   "outputs": [],
   "source": [
    "with open(\"page.txt\", \"r\") as f:\n",
    "    text = f.read()"
   ]
  },
  {
   "cell_type": "code",
   "execution_count": 144,
   "metadata": {},
   "outputs": [],
   "source": [
    "import re\n",
    "dates = re.findall(\"dat[ae] ?=(.*?) ?[\\|\\}]\", text, )"
   ]
  },
  {
   "cell_type": "code",
   "execution_count": 145,
   "metadata": {},
   "outputs": [
    {
     "data": {
      "text/plain": [
       "['May 2009',\n",
       " 'September 2015',\n",
       " '2020-04-30',\n",
       " '2020-01-01',\n",
       " '2020-03-28',\n",
       " '2020-03-17',\n",
       " '2020-03-28',\n",
       " '7 April 2020',\n",
       " '7 April 2020',\n",
       " '7 April 2020',\n",
       " '27 August 2009',\n",
       " '16 June 2015',\n",
       " '2020-01-01',\n",
       " '2020-03-28',\n",
       " '7 April 2020',\n",
       " '1 June 2015',\n",
       " '17 September 2014',\n",
       " '2021-02-19',\n",
       " '2021-02-19',\n",
       " '7 April 2020',\n",
       " '2020-01-01',\n",
       " '2020-03-28',\n",
       " '2014']"
      ]
     },
     "execution_count": 145,
     "metadata": {},
     "output_type": "execute_result"
    }
   ],
   "source": [
    "dates"
   ]
  },
  {
   "cell_type": "code",
   "execution_count": 146,
   "metadata": {},
   "outputs": [],
   "source": [
    "from datetime import datetime"
   ]
  },
  {
   "cell_type": "code",
   "execution_count": 147,
   "metadata": {},
   "outputs": [],
   "source": [
    "import locale\n",
    "\n",
    "\n",
    "def convert_to_pt(text):\n",
    "    locale.setlocale(locale.LC_ALL, 'en_US.utf8')\n",
    "\n",
    "    try:\n",
    "        dt = datetime.strptime(text, \"%d %B %Y\")\n",
    "        \n",
    "        locale.setlocale(locale.LC_ALL, 'pt_BR.utf8')\n",
    "\n",
    "        return(dt.strftime(\"%-d de %B de %Y\"))    \n",
    "        \n",
    "    except:\n",
    "        pass\n",
    "        \n",
    "    try:\n",
    "        dt = datetime.strptime(text, \"%B %Y\")\n",
    "        \n",
    "        locale.setlocale(locale.LC_ALL, 'pt_BR.utf8')\n",
    "\n",
    "        return(dt.strftime(\"%Y\"))    \n",
    "        \n",
    "    except:\n",
    "        return(text)\n",
    "        "
   ]
  },
  {
   "cell_type": "code",
   "execution_count": 148,
   "metadata": {},
   "outputs": [
    {
     "data": {
      "text/plain": [
       "'2020'"
      ]
     },
     "execution_count": 148,
     "metadata": {},
     "output_type": "execute_result"
    }
   ],
   "source": [
    "convert_to_pt('April 2020')"
   ]
  },
  {
   "cell_type": "code",
   "execution_count": 149,
   "metadata": {},
   "outputs": [],
   "source": [
    "date_dict = {}\n",
    "for date in dates:\n",
    "    date_dict[date] = convert_to_pt(date)"
   ]
  },
  {
   "cell_type": "code",
   "execution_count": 150,
   "metadata": {},
   "outputs": [
    {
     "data": {
      "text/plain": [
       "{'May 2009': '2009',\n",
       " 'September 2015': '2015',\n",
       " '2020-04-30': '2020-04-30',\n",
       " '2020-01-01': '2020-01-01',\n",
       " '2020-03-28': '2020-03-28',\n",
       " '2020-03-17': '2020-03-17',\n",
       " '7 April 2020': '7 de abril de 2020',\n",
       " '27 August 2009': '27 de agosto de 2009',\n",
       " '16 June 2015': '16 de junho de 2015',\n",
       " '1 June 2015': '1 de junho de 2015',\n",
       " '17 September 2014': '17 de setembro de 2014',\n",
       " '2021-02-19': '2021-02-19',\n",
       " '2014': '2014'}"
      ]
     },
     "execution_count": 150,
     "metadata": {},
     "output_type": "execute_result"
    }
   ],
   "source": [
    "date_dict"
   ]
  },
  {
   "cell_type": "code",
   "execution_count": 151,
   "metadata": {},
   "outputs": [],
   "source": [
    "for en, pt in date_dict.items():\n",
    "    text = text.replace(en, pt)"
   ]
  },
  {
   "cell_type": "code",
   "execution_count": 152,
   "metadata": {},
   "outputs": [],
   "source": [
    "with open(\"page_result\", \"w\") as f:\n",
    "    f.write(text)"
   ]
  },
  {
   "cell_type": "code",
   "execution_count": null,
   "metadata": {},
   "outputs": [],
   "source": []
  },
  {
   "cell_type": "code",
   "execution_count": null,
   "metadata": {},
   "outputs": [],
   "source": []
  }
 ],
 "metadata": {
  "kernelspec": {
   "display_name": "Python 3",
   "language": "python",
   "name": "python3"
  },
  "language_info": {
   "codemirror_mode": {
    "name": "ipython",
    "version": 3
   },
   "file_extension": ".py",
   "mimetype": "text/x-python",
   "name": "python",
   "nbconvert_exporter": "python",
   "pygments_lexer": "ipython3",
   "version": "3.6.9"
  }
 },
 "nbformat": 4,
 "nbformat_minor": 4
}
